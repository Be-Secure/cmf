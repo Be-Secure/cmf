{
 "cells": [
  {
   "cell_type": "markdown",
   "id": "92316a38",
   "metadata": {},
   "source": [
    "### This Jupyter notebook provides examples of how the pipeline metadata stored with CMF tracking layer can be queried with CMF query layer."
   ]
  },
  {
   "cell_type": "code",
   "execution_count": 1,
   "id": "d8cecabd",
   "metadata": {},
   "outputs": [],
   "source": [
    "import pandas as pd\n",
    "from cmflib import cmfquery\n",
    "from cmflib.merger import parse_json_to_mlmd"
   ]
  },
  {
   "cell_type": "markdown",
   "id": "9ae54008",
   "metadata": {},
   "source": [
    "##### Initialize the library and get all the stages in the pipeline\n",
    "Point the library to the metadata file. <br>\n",
    "The `get_pipeline_stages` call point to the different stages in the pipeline."
   ]
  },
  {
   "cell_type": "code",
   "execution_count": 2,
   "id": "8b735117",
   "metadata": {
    "pycharm": {
     "is_executing": true
    },
    "scrolled": true
   },
   "outputs": [],
   "source": [
    "query = cmfquery.CmfQuery(\"./mlmd\")\n",
    "json_str = query.dumptojson(\"Test-env\")\n",
    "#print(stages)"
   ]
  },
  {
   "cell_type": "markdown",
   "id": "5ac1591f",
   "metadata": {},
   "source": [
    "##### Query the Executions in each stage"
   ]
  },
  {
   "cell_type": "code",
   "execution_count": 3,
   "id": "2766adeb",
   "metadata": {
    "scrolled": true
   },
   "outputs": [
    {
     "name": "stdout",
     "output_type": "stream",
     "text": [
      "{\"Pipeline\": [{\"create_time_since_epoch\": 1666018207959, \"custom_properties\": {}, \"id\": 1, \"last_update_time_since_epoch\": 1666018207959, \"name\": \"Test-env\", \"properties\": {\"Pipeline\": \"Test-env\"}, \"type\": \"\", \"type_id\": 10, \"stages\": [{\"create_time_since_epoch\": 1666018207960, \"custom_properties\": {\"user-metadata1\": \"metadata_value\"}, \"id\": 2, \"last_update_time_since_epoch\": 1666018207960, \"name\": \"Prepare\", \"properties\": {\"Pipeline_Stage\": \"Prepare\"}, \"type\": \"\", \"type_id\": 11, \"executions\": [{\"create_time_since_epoch\": 1666018207974, \"custom_properties\": {\"split\": 0.2, \"seed\": 20170428}, \"id\": 1, \"last_update_time_since_epoch\": 1666018207974, \"name\": \"\", \"properties\": {\"Context_ID\": 2, \"Context_Type\": \"Prepare\", \"Pipeline_id\": 1, \"Git_Start_Commit\": \"e68201001d9431895a32dbd87409e4eac0a2fd43\", \"Pipeline_Type\": \"Test-env\", \"Git_Repo\": \"/tmp/cmf/example_get_started/git_remote\", \"Execution\": \"['src/parse.py', 'artifacts/data.xml.gz', 'artifacts/parsed']\", \"Git_End_Commit\": \"\"}, \"type\": \"Prepare\", \"type_id\": 12, \"events\": [{\"type\": 3, \"artifact\": {\"create_time_since_epoch\": 1666018210267, \"custom_properties\": {\"user-metadata1\": \"metadata_value\", \"user-metadata2\": \"metadata_value\"}, \"id\": 1, \"last_update_time_since_epoch\": 1666018217928, \"name\": \"artifacts/data.xml.gz:236d9502e0283d91f689d7038b8508a2\", \"properties\": {\"Commit\": \"To track the changes with git, run:\\n\\n\\tgit add artifacts/data.xml.gz.dvc\", \"url\": \"../../../tmp/cmf/example_get_started/dvc_remote/23/6d9502e0283d91f689d7038b8508a2\", \"git_repo\": \"/tmp/cmf/example_get_started/git_remote\"}, \"type\": \"Dataset\", \"type_id\": 13, \"uri\": \"236d9502e0283d91f689d7038b8508a2\"}}, {\"type\": 4, \"artifact\": {\"create_time_since_epoch\": 1666018214079, \"custom_properties\": {}, \"id\": 2, \"last_update_time_since_epoch\": 1666018214079, \"name\": \"artifacts/parsed/train.tsv:32b715ef0d71ff4c9e61f55b09c15e75\", \"properties\": {\"url\": \"../../../tmp/cmf/example_get_started/dvc_remote/32/b715ef0d71ff4c9e61f55b09c15e75\", \"git_repo\": \"/tmp/cmf/example_get_started/git_remote\", \"Commit\": \"To track the changes with git, run:\\n\\n\\tgit add artifacts/parsed/train.tsv.dvc\"}, \"type\": \"Dataset\", \"type_id\": 13, \"uri\": \"32b715ef0d71ff4c9e61f55b09c15e75\"}}, {\"type\": 4, \"artifact\": {\"create_time_since_epoch\": 1666018216010, \"custom_properties\": {}, \"id\": 3, \"last_update_time_since_epoch\": 1666018216010, \"name\": \"artifacts/parsed/test.tsv:6f597d341ceb7d8fbbe88859a892ef81\", \"properties\": {\"url\": \"../../../tmp/cmf/example_get_started/dvc_remote/6f/597d341ceb7d8fbbe88859a892ef81\", \"git_repo\": \"/tmp/cmf/example_get_started/git_remote\", \"Commit\": \"To track the changes with git, run:\\n\\n\\tgit add artifacts/parsed/test.tsv.dvc\"}, \"type\": \"Dataset\", \"type_id\": 13, \"uri\": \"6f597d341ceb7d8fbbe88859a892ef81\"}}]}]}, {\"create_time_since_epoch\": 1666018218941, \"custom_properties\": {}, \"id\": 3, \"last_update_time_since_epoch\": 1666018218941, \"name\": \"Featurize\", \"properties\": {\"Pipeline_Stage\": \"Featurize\"}, \"type\": \"\", \"type_id\": 11, \"executions\": [{\"create_time_since_epoch\": 1666018218964, \"custom_properties\": {\"max_features\": 3000, \"ngrams\": 2}, \"id\": 2, \"last_update_time_since_epoch\": 1666018218964, \"name\": \"\", \"properties\": {\"Git_Start_Commit\": \"e68201001d9431895a32dbd87409e4eac0a2fd43\", \"Context_Type\": \"Featurize-execution\", \"Git_Repo\": \"/tmp/cmf/example_get_started/git_remote\", \"Execution\": \"['src/featurize.py', 'artifacts/parsed', 'artifacts/features']\", \"Pipeline_id\": 1, \"Pipeline_Type\": \"Test-env\", \"Context_ID\": 3, \"Git_End_Commit\": \"\"}, \"type\": \"Featurize-execution\", \"type_id\": 14, \"events\": [{\"type\": 3, \"artifact\": {\"create_time_since_epoch\": 1666018214079, \"custom_properties\": {}, \"id\": 2, \"last_update_time_since_epoch\": 1666018214079, \"name\": \"artifacts/parsed/train.tsv:32b715ef0d71ff4c9e61f55b09c15e75\", \"properties\": {\"Commit\": \"To track the changes with git, run:\\n\\n\\tgit add artifacts/parsed/train.tsv.dvc\", \"git_repo\": \"/tmp/cmf/example_get_started/git_remote\", \"url\": \"../../../tmp/cmf/example_get_started/dvc_remote/32/b715ef0d71ff4c9e61f55b09c15e75\"}, \"type\": \"Dataset\", \"type_id\": 13, \"uri\": \"32b715ef0d71ff4c9e61f55b09c15e75\"}}, {\"type\": 3, \"artifact\": {\"create_time_since_epoch\": 1666018216010, \"custom_properties\": {}, \"id\": 3, \"last_update_time_since_epoch\": 1666018216010, \"name\": \"artifacts/parsed/test.tsv:6f597d341ceb7d8fbbe88859a892ef81\", \"properties\": {\"url\": \"../../../tmp/cmf/example_get_started/dvc_remote/6f/597d341ceb7d8fbbe88859a892ef81\", \"Commit\": \"To track the changes with git, run:\\n\\n\\tgit add artifacts/parsed/test.tsv.dvc\", \"git_repo\": \"/tmp/cmf/example_get_started/git_remote\"}, \"type\": \"Dataset\", \"type_id\": 13, \"uri\": \"6f597d341ceb7d8fbbe88859a892ef81\"}}, {\"type\": 4, \"artifact\": {\"create_time_since_epoch\": 1666018238077, \"custom_properties\": {}, \"id\": 4, \"last_update_time_since_epoch\": 1666018238077, \"name\": \"artifacts/features/train.pkl:c565b23737962d61ccf1122cb211fc37\", \"properties\": {\"git_repo\": \"/tmp/cmf/example_get_started/git_remote\", \"url\": \"../../../tmp/cmf/example_get_started/dvc_remote/c5/65b23737962d61ccf1122cb211fc37\", \"Commit\": \"To track the changes with git, run:\\n\\n\\tgit add artifacts/features/train.pkl.dvc\"}, \"type\": \"Dataset\", \"type_id\": 13, \"uri\": \"c565b23737962d61ccf1122cb211fc37\"}}, {\"type\": 4, \"artifact\": {\"create_time_since_epoch\": 1666018240298, \"custom_properties\": {}, \"id\": 5, \"last_update_time_since_epoch\": 1666018240298, \"name\": \"artifacts/features/test.pkl:96af3114a0c204043ded8c419eab8dbe\", \"properties\": {\"Commit\": \"To track the changes with git, run:\\n\\n\\tgit add artifacts/features/test.pkl.dvc\", \"url\": \"../../../tmp/cmf/example_get_started/dvc_remote/96/af3114a0c204043ded8c419eab8dbe\", \"git_repo\": \"/tmp/cmf/example_get_started/git_remote\"}, \"type\": \"Dataset\", \"type_id\": 13, \"uri\": \"96af3114a0c204043ded8c419eab8dbe\"}}]}]}, {\"create_time_since_epoch\": 1666018241573, \"custom_properties\": {}, \"id\": 4, \"last_update_time_since_epoch\": 1666018241573, \"name\": \"Train\", \"properties\": {\"Pipeline_Stage\": \"Train\"}, \"type\": \"\", \"type_id\": 11, \"executions\": [{\"create_time_since_epoch\": 1666018241595, \"custom_properties\": {\"n_est\": 100, \"seed\": 20170428, \"min_split\": 64}, \"id\": 3, \"last_update_time_since_epoch\": 1666018241595, \"name\": \"\", \"properties\": {\"Context_ID\": 4, \"Git_End_Commit\": \"\", \"Git_Start_Commit\": \"e68201001d9431895a32dbd87409e4eac0a2fd43\", \"Context_Type\": \"Train-execution\", \"Pipeline_id\": 1, \"Execution\": \"['src/train.py', 'artifacts/features', 'artifacts/model']\", \"Git_Repo\": \"/tmp/cmf/example_get_started/git_remote\", \"Pipeline_Type\": \"Test-env\"}, \"type\": \"Train-execution\", \"type_id\": 15, \"events\": [{\"type\": 3, \"artifact\": {\"create_time_since_epoch\": 1666018238077, \"custom_properties\": {}, \"id\": 4, \"last_update_time_since_epoch\": 1666018238077, \"name\": \"artifacts/features/train.pkl:c565b23737962d61ccf1122cb211fc37\", \"properties\": {\"Commit\": \"To track the changes with git, run:\\n\\n\\tgit add artifacts/features/train.pkl.dvc\", \"git_repo\": \"/tmp/cmf/example_get_started/git_remote\", \"url\": \"../../../tmp/cmf/example_get_started/dvc_remote/c5/65b23737962d61ccf1122cb211fc37\"}, \"type\": \"Dataset\", \"type_id\": 13, \"uri\": \"c565b23737962d61ccf1122cb211fc37\"}}, {\"type\": 4, \"artifact\": {\"create_time_since_epoch\": 1666018248751, \"custom_properties\": {}, \"id\": 6, \"last_update_time_since_epoch\": 1666018248751, \"name\": \"artifacts/model/model.pkl:9351b160e2e355b1412633cdfb0460c7:3\", \"properties\": {\"Commit\": \"To track the changes with git, run:\\n\\n\\tgit add artifacts/model/model.pkl.dvc\", \"model_type\": \"RandomForestClassifier\", \"model_framework\": \"SKlearn\", \"model_name\": \"RandomForestClassifier:default\", \"url\": \"../../../tmp/cmf/example_get_started/dvc_remote/93/51b160e2e355b1412633cdfb0460c7\"}, \"type\": \"Model\", \"type_id\": 16, \"uri\": \"9351b160e2e355b1412633cdfb0460c7\"}}]}]}, {\"create_time_since_epoch\": 1666018249761, \"custom_properties\": {}, \"id\": 5, \"last_update_time_since_epoch\": 1666018249761, \"name\": \"Evaluate\", \"properties\": {\"Pipeline_Stage\": \"Evaluate\"}, \"type\": \"\", \"type_id\": 11, \"executions\": [{\"create_time_since_epoch\": 1666018249780, \"custom_properties\": {}, \"id\": 4, \"last_update_time_since_epoch\": 1666018249780, \"name\": \"\", \"properties\": {\"Git_Repo\": \"/tmp/cmf/example_get_started/git_remote\", \"Git_Start_Commit\": \"e68201001d9431895a32dbd87409e4eac0a2fd43\", \"Pipeline_id\": 1, \"Context_Type\": \"Evaluate-execution\", \"Git_End_Commit\": \"\", \"Pipeline_Type\": \"Test-env\", \"Context_ID\": 5, \"Execution\": \"['src/test.py', 'artifacts/model', 'artifacts/features', 'artifacts/test_results']\"}, \"type\": \"Evaluate-execution\", \"type_id\": 17, \"events\": [{\"type\": 3, \"artifact\": {\"create_time_since_epoch\": 1666018248751, \"custom_properties\": {}, \"id\": 6, \"last_update_time_since_epoch\": 1666018248751, \"name\": \"artifacts/model/model.pkl:9351b160e2e355b1412633cdfb0460c7:3\", \"properties\": {\"url\": \"../../../tmp/cmf/example_get_started/dvc_remote/93/51b160e2e355b1412633cdfb0460c7\", \"model_name\": \"RandomForestClassifier:default\", \"Commit\": \"To track the changes with git, run:\\n\\n\\tgit add artifacts/model/model.pkl.dvc\", \"model_framework\": \"SKlearn\", \"model_type\": \"RandomForestClassifier\"}, \"type\": \"Model\", \"type_id\": 16, \"uri\": \"9351b160e2e355b1412633cdfb0460c7\"}}, {\"type\": 3, \"artifact\": {\"create_time_since_epoch\": 1666018240298, \"custom_properties\": {}, \"id\": 5, \"last_update_time_since_epoch\": 1666018240298, \"name\": \"artifacts/features/test.pkl:96af3114a0c204043ded8c419eab8dbe\", \"properties\": {\"Commit\": \"To track the changes with git, run:\\n\\n\\tgit add artifacts/features/test.pkl.dvc\", \"url\": \"../../../tmp/cmf/example_get_started/dvc_remote/96/af3114a0c204043ded8c419eab8dbe\", \"git_repo\": \"/tmp/cmf/example_get_started/git_remote\"}, \"type\": \"Dataset\", \"type_id\": 13, \"uri\": \"96af3114a0c204043ded8c419eab8dbe\"}}, {\"type\": 4, \"artifact\": {\"create_time_since_epoch\": 1666018253989, \"custom_properties\": {\"avg_prec\": 0.604054, \"roc_auc\": 0.960802}, \"id\": 7, \"last_update_time_since_epoch\": 1666018253989, \"name\": \"metrics:19b022ce-4e2b-11ed-99a3-b47af137252e:4\", \"properties\": {\"metrics_name\": \"metrics:19b022ce-4e2b-11ed-99a3-b47af137252e:4\"}, \"type\": \"Metrics\", \"type_id\": 18, \"uri\": \"19b022ce-4e2b-11ed-99a3-b47af137252e\"}}]}]}]}]}"
     ]
    },
    {
     "name": "stdout",
     "output_type": "stream",
     "text": [
      "\n"
     ]
    }
   ],
   "source": [
    "print(json_str)"
   ]
  },
  {
   "cell_type": "code",
   "execution_count": 4,
   "id": "da0ee66d",
   "metadata": {
    "pycharm": {
     "is_executing": true
    }
   },
   "outputs": [
    {
     "name": "stdout",
     "output_type": "stream",
     "text": [
      "<class 'list'>\n",
      "<class 'dict'>\n",
      "<class 'str'>\n",
      "Prepare\n",
      "Prepare\n",
      "/tmp/cmf/example_get_started/git_remote/artifacts/data.xml.gz\n",
      "/tmp/cmf/example_get_started/git_remote/artifacts/parsed/train.tsv\n",
      "/tmp/cmf/example_get_started/git_remote/artifacts/parsed/test.tsv\n",
      "Featurize\n",
      "Featurize-execution\n",
      "/tmp/cmf/example_get_started/git_remote/artifacts/parsed/train.tsv\n",
      "/tmp/cmf/example_get_started/git_remote/artifacts/parsed/test.tsv\n",
      "/tmp/cmf/example_get_started/git_remote/artifacts/features/train.pkl\n",
      "/tmp/cmf/example_get_started/git_remote/artifacts/features/test.pkl\n",
      "Train\n",
      "Train-execution\n",
      "/tmp/cmf/example_get_started/git_remote/artifacts/features/train.pkl\n",
      "SKlearn\n",
      "RandomForestClassifier\n",
      "RandomForestClassifier:default\n",
      "artifacts/model/model.pkl\n",
      "<class 'str'>\n",
      "9351b160e2e355b1412633cdfb0460c7\n",
      "Evaluate\n",
      "Evaluate-execution\n",
      "SKlearn\n",
      "RandomForestClassifier\n",
      "RandomForestClassifier:default\n",
      "9351b160e2e355b1412633cdfb0460c7\n",
      "/tmp/cmf/example_get_started/git_remote/artifacts/features/test.pkl\n",
      "0.1870732307434082\n"
     ]
    }
   ],
   "source": [
    "import time\n",
    "start = time.time()\n",
    "parse_json_to_mlmd(json_str)\n",
    "end =  time.time()\n",
    "print(end - start)\n",
    "#executions = query.get_all_executions_in_stage('Prepare')\n",
    "#print(executions)"
   ]
  },
  {
   "cell_type": "markdown",
   "id": "cbc05fd9",
   "metadata": {},
   "source": [
    "##### Query the Executions in each stage\n"
   ]
  },
  {
   "cell_type": "code",
   "execution_count": 5,
   "id": "cd81efe0",
   "metadata": {
    "pycharm": {
     "is_executing": true
    }
   },
   "outputs": [
    {
     "name": "stdout",
     "output_type": "stream",
     "text": [
      "   Context_ID         Context_Type  \\\n",
      "0           3  Featurize-execution   \n",
      "1           3  Featurize-execution   \n",
      "\n",
      "                                           Execution Git_End_Commit  \\\n",
      "0  ['/home/royann/env/lib/python3.6/site-packages...                  \n",
      "1  ['src/featurize.py', 'artifacts/parsed', 'arti...                  \n",
      "\n",
      "                                  Git_Repo  \\\n",
      "0  /tmp/cmf/example_get_started/git_remote   \n",
      "1  /tmp/cmf/example_get_started/git_remote   \n",
      "\n",
      "                           Git_Start_Commit Pipeline_Type  Pipeline_id  id  \\\n",
      "0  e68201001d9431895a32dbd87409e4eac0a2fd43      Test-env            1   6   \n",
      "1  e68201001d9431895a32dbd87409e4eac0a2fd43      Test-env            1   2   \n",
      "\n",
      "   max_features  ngrams  \n",
      "0          3000       2  \n",
      "1          3000       2  \n"
     ]
    }
   ],
   "source": [
    "executions = query.get_all_executions_in_stage('Featurize')\n",
    "print(executions)"
   ]
  },
  {
   "cell_type": "markdown",
   "id": "dd5c7d70",
   "metadata": {
    "pycharm": {
     "name": "#%% md\n"
    }
   },
   "source": [
    "##### Query the Executions in each stage"
   ]
  },
  {
   "cell_type": "code",
   "execution_count": 6,
   "id": "32c8fd0c",
   "metadata": {
    "pycharm": {
     "is_executing": true
    }
   },
   "outputs": [
    {
     "name": "stdout",
     "output_type": "stream",
     "text": [
      "   Context_ID     Context_Type  \\\n",
      "0           4  Train-execution   \n",
      "1           4  Train-execution   \n",
      "\n",
      "                                           Execution Git_End_Commit  \\\n",
      "0  ['/home/royann/env/lib/python3.6/site-packages...                  \n",
      "1  ['src/train.py', 'artifacts/features', 'artifa...                  \n",
      "\n",
      "                                  Git_Repo  \\\n",
      "0  /tmp/cmf/example_get_started/git_remote   \n",
      "1  /tmp/cmf/example_get_started/git_remote   \n",
      "\n",
      "                           Git_Start_Commit Pipeline_Type  Pipeline_id  id  \\\n",
      "0  e68201001d9431895a32dbd87409e4eac0a2fd43      Test-env            1   7   \n",
      "1  e68201001d9431895a32dbd87409e4eac0a2fd43      Test-env            1   3   \n",
      "\n",
      "   min_split  n_est      seed  \n",
      "0         64    100  20170428  \n",
      "1         64    100  20170428  \n"
     ]
    }
   ],
   "source": [
    "executions = query.get_all_executions_in_stage('Train')\n",
    "print(executions)"
   ]
  },
  {
   "cell_type": "markdown",
   "id": "0342196a",
   "metadata": {},
   "source": [
    "##### Query the Executions in each stage"
   ]
  },
  {
   "cell_type": "code",
   "execution_count": 7,
   "id": "e1bcfcd0",
   "metadata": {
    "pycharm": {
     "is_executing": true
    }
   },
   "outputs": [
    {
     "name": "stdout",
     "output_type": "stream",
     "text": [
      "   Context_ID        Context_Type  \\\n",
      "0           5  Evaluate-execution   \n",
      "1           5  Evaluate-execution   \n",
      "\n",
      "                                           Execution Git_End_Commit  \\\n",
      "0  ['/home/royann/env/lib/python3.6/site-packages...                  \n",
      "1  ['src/test.py', 'artifacts/model', 'artifacts/...                  \n",
      "\n",
      "                                  Git_Repo  \\\n",
      "0  /tmp/cmf/example_get_started/git_remote   \n",
      "1  /tmp/cmf/example_get_started/git_remote   \n",
      "\n",
      "                           Git_Start_Commit Pipeline_Type  Pipeline_id  id  \n",
      "0  e68201001d9431895a32dbd87409e4eac0a2fd43      Test-env            1   8  \n",
      "1  e68201001d9431895a32dbd87409e4eac0a2fd43      Test-env            1   4  \n"
     ]
    }
   ],
   "source": [
    "executions = query.get_all_executions_in_stage('Evaluate')\n",
    "print(executions)"
   ]
  },
  {
   "cell_type": "markdown",
   "id": "5a3599af",
   "metadata": {},
   "source": [
    "##### Get all the artifacts of execution. \n",
    "<b>input parameter - execution_id</b><br>\n",
    "<b>output parameter - artifacts</b><br>\n"
   ]
  },
  {
   "cell_type": "code",
   "execution_count": 8,
   "id": "6d483d40",
   "metadata": {},
   "outputs": [
    {
     "name": "stdout",
     "output_type": "stream",
     "text": [
      "                                              Commit  avg_prec commit  \\\n",
      "0  To track the changes with git, run:\\n\\n\\tgit a...       NaN          \n",
      "1  To track the changes with git, run:\\n\\n\\tgit a...       NaN    NaN   \n",
      "2                                                NaN  0.604054    NaN   \n",
      "\n",
      "   create_time_since_epoch   event                                 git_repo  \\\n",
      "0            1666018289121   INPUT                                      NaN   \n",
      "1            1666018240298   INPUT  /tmp/cmf/example_get_started/git_remote   \n",
      "2            1666018289152  OUTPUT                                      NaN   \n",
      "\n",
      "   id  last_update_time_since_epoch  \\\n",
      "0   8                 1666018289121   \n",
      "1   5                 1666018240298   \n",
      "2   9                 1666018289152   \n",
      "\n",
      "                                     metrics_name model_framework  \\\n",
      "0                                             NaN         SKlearn   \n",
      "1                                             NaN             NaN   \n",
      "2  metrics:2ea59dbc-4e2b-11ed-99a3-b47af137252e:8             NaN   \n",
      "\n",
      "                       model_name              model_type  \\\n",
      "0  RandomForestClassifier:default  RandomForestClassifier   \n",
      "1                             NaN                     NaN   \n",
      "2                             NaN                     NaN   \n",
      "\n",
      "                                                name   roc_auc     type  \\\n",
      "0  artifacts/model/model.pkl:9351b160e2e355b14126...       NaN    Model   \n",
      "1  artifacts/features/test.pkl:96af3114a0c204043d...       NaN  Dataset   \n",
      "2     metrics:2ea59dbc-4e2b-11ed-99a3-b47af137252e:8  0.960802  Metrics   \n",
      "\n",
      "                                    uri  \\\n",
      "0      9351b160e2e355b1412633cdfb0460c7   \n",
      "1      96af3114a0c204043ded8c419eab8dbe   \n",
      "2  2ea59dbc-4e2b-11ed-99a3-b47af137252e   \n",
      "\n",
      "                                                 url  \n",
      "0  ../../../tmp/cmf/example_get_started/dvc_remot...  \n",
      "1  ../../../tmp/cmf/example_get_started/dvc_remot...  \n",
      "2                                                NaN  \n"
     ]
    }
   ],
   "source": [
    "artifacts = query.get_all_artifacts_for_execution(8)\n",
    "print(artifacts)"
   ]
  },
  {
   "cell_type": "code",
   "execution_count": 9,
   "id": "6fa93876",
   "metadata": {
    "pycharm": {
     "is_executing": true
    }
   },
   "outputs": [
    {
     "name": "stdout",
     "output_type": "stream",
     "text": [
      "                                              Commit  avg_prec  \\\n",
      "0  To track the changes with git, run:\\n\\n\\tgit a...       NaN   \n",
      "1  To track the changes with git, run:\\n\\n\\tgit a...       NaN   \n",
      "2                                                NaN  0.604054   \n",
      "\n",
      "   create_time_since_epoch   event                                 git_repo  \\\n",
      "0            1666018248751   INPUT                                      NaN   \n",
      "1            1666018240298   INPUT  /tmp/cmf/example_get_started/git_remote   \n",
      "2            1666018253989  OUTPUT                                      NaN   \n",
      "\n",
      "   id  last_update_time_since_epoch  \\\n",
      "0   6                 1666018248751   \n",
      "1   5                 1666018240298   \n",
      "2   7                 1666018253989   \n",
      "\n",
      "                                     metrics_name model_framework  \\\n",
      "0                                             NaN         SKlearn   \n",
      "1                                             NaN             NaN   \n",
      "2  metrics:19b022ce-4e2b-11ed-99a3-b47af137252e:4             NaN   \n",
      "\n",
      "                       model_name              model_type  \\\n",
      "0  RandomForestClassifier:default  RandomForestClassifier   \n",
      "1                             NaN                     NaN   \n",
      "2                             NaN                     NaN   \n",
      "\n",
      "                                                name   roc_auc     type  \\\n",
      "0  artifacts/model/model.pkl:9351b160e2e355b14126...       NaN    Model   \n",
      "1  artifacts/features/test.pkl:96af3114a0c204043d...       NaN  Dataset   \n",
      "2     metrics:19b022ce-4e2b-11ed-99a3-b47af137252e:4  0.960802  Metrics   \n",
      "\n",
      "                                    uri  \\\n",
      "0      9351b160e2e355b1412633cdfb0460c7   \n",
      "1      96af3114a0c204043ded8c419eab8dbe   \n",
      "2  19b022ce-4e2b-11ed-99a3-b47af137252e   \n",
      "\n",
      "                                                 url  \n",
      "0  ../../../tmp/cmf/example_get_started/dvc_remot...  \n",
      "1  ../../../tmp/cmf/example_get_started/dvc_remot...  \n",
      "2                                                NaN  \n"
     ]
    }
   ],
   "source": [
    "artifacts = query.get_all_artifacts_for_execution(4)\n",
    "print(artifacts)"
   ]
  },
  {
   "cell_type": "code",
   "execution_count": 10,
   "id": "2e82cf28",
   "metadata": {
    "pycharm": {
     "is_executing": true
    }
   },
   "outputs": [
    {
     "name": "stdout",
     "output_type": "stream",
     "text": [
      "0      artifacts/parsed/train.tsv:32b715ef0d71ff4c9e61f55b09c15e75\n",
      "1       artifacts/parsed/test.tsv:6f597d341ceb7d8fbbe88859a892ef81\n",
      "2    artifacts/features/train.pkl:c565b23737962d61ccf1122cb211fc37\n",
      "3     artifacts/features/test.pkl:96af3114a0c204043ded8c419eab8dbe\n",
      "Name: name, dtype: object\n",
      "0     INPUT\n",
      "1     INPUT\n",
      "2    OUTPUT\n",
      "3    OUTPUT\n",
      "Name: event, dtype: object\n"
     ]
    }
   ],
   "source": [
    "# print(pd.options.display.max_colwidth)\n",
    "pd.options.display.max_colwidth = 75\n",
    "artifacts = query.get_all_artifacts_for_execution(2)\n",
    "\n",
    "# print(artifacts)\n",
    "print(artifacts[\"name\"])\n",
    "print(artifacts[\"event\"])"
   ]
  },
  {
   "cell_type": "markdown",
   "id": "d15b7386",
   "metadata": {},
   "source": [
    "#### get all executions for an artifact(pass the artifact full name as the input parameter)"
   ]
  },
  {
   "cell_type": "code",
   "execution_count": 11,
   "id": "f1632d60",
   "metadata": {
    "pycharm": {
     "is_executing": true
    }
   },
   "outputs": [
    {
     "name": "stdout",
     "output_type": "stream",
     "text": [
      "Empty DataFrame\n",
      "Columns: []\n",
      "Index: []\n"
     ]
    }
   ],
   "source": [
    "linked = query.get_all_executions_for_artifact(\"artifacts/data.xml.gz:a304afb96060aad90176268345e10355\")\n",
    "print(linked)"
   ]
  },
  {
   "cell_type": "markdown",
   "id": "7ad864e3",
   "metadata": {},
   "source": [
    "#### Get all the parent artifacts of an artifact. Provides the artifact lineage chain"
   ]
  },
  {
   "cell_type": "code",
   "execution_count": null,
   "id": "09652709",
   "metadata": {
    "pycharm": {
     "is_executing": true
    }
   },
   "outputs": [],
   "source": [
    "linked = query.get_all_parent_artifacts(\"artifacts/features/test.pkl\")\n",
    "print(linked)"
   ]
  },
  {
   "cell_type": "markdown",
   "id": "63b615f1",
   "metadata": {},
   "source": [
    "#### Get all the child artifacts of an artifact. Provides the lineage chain in the downstream direction"
   ]
  },
  {
   "cell_type": "code",
   "execution_count": null,
   "id": "57b85ea6",
   "metadata": {
    "pycharm": {
     "is_executing": true
    }
   },
   "outputs": [],
   "source": [
    "linked = query.get_all_child_artifacts(\"artifacts/features/train.pkl\")\n",
    "\n",
    "print(\"Name : \" + linked[\"name\"].to_string(index=False, header=False))\n",
    "print(\"Type : \" + linked[\"type\"].to_string(index=False, header=False))\n",
    "print(\"URI : \" + linked[\"uri\"].to_string(index=False, header=False))"
   ]
  },
  {
   "cell_type": "markdown",
   "id": "4cf2f2e6",
   "metadata": {
    "pycharm": {
     "name": "#%% md\n"
    }
   },
   "source": [
    "#### Get all the parent artifacts of an artifact. Provides the artifact lineage chain"
   ]
  },
  {
   "cell_type": "code",
   "execution_count": null,
   "id": "493bd571",
   "metadata": {
    "pycharm": {
     "is_executing": true
    }
   },
   "outputs": [],
   "source": [
    "linked = query.get_all_parent_artifacts(\"artifacts/model/model.pkl\")\n",
    "print(\"NAME\")\n",
    "print(linked[\"name\"].to_string(index=False, header=False))\n",
    "print(\"TYPE\")\n",
    "print(linked[\"type\"].to_string(index=False, header=False))\n",
    "print(\"URI\")\n",
    "print(linked[\"uri\"].to_string(index=False, header=False))"
   ]
  },
  {
   "cell_type": "code",
   "execution_count": null,
   "id": "a4c338be",
   "metadata": {
    "pycharm": {
     "is_executing": true
    }
   },
   "outputs": [],
   "source": [
    "linked = query.get_all_parent_artifacts(\"artifacts/parsed/test.tsv\")\n",
    "print(\"Name : \" + linked[\"name\"].to_string(index=False, header=False))\n",
    "print(\"Type : \" + linked[\"type\"].to_string(index=False, header=False))\n",
    "print(\"URI : \" + linked[\"uri\"].to_string(index=False, header=False))"
   ]
  },
  {
   "cell_type": "code",
   "execution_count": null,
   "id": "4eb35ec5",
   "metadata": {
    "pycharm": {
     "is_executing": true
    }
   },
   "outputs": [],
   "source": [
    "linked = query.get_all_child_artifacts(\"artifacts/parsed/test.tsv\")\n",
    "print(\"NAME\")\n",
    "print(linked[\"name\"].to_string(index=False, header=False))\n",
    "print(\"TYPE\")\n",
    "print(linked[\"type\"].to_string(index=False, header=False))\n",
    "print(\"URI\")\n",
    "print(linked[\"uri\"].to_string(index=False, header=False))"
   ]
  },
  {
   "cell_type": "markdown",
   "id": "29060ba9",
   "metadata": {},
   "source": [
    "#### Get immediate child artifacts of an artifact. "
   ]
  },
  {
   "cell_type": "code",
   "execution_count": null,
   "id": "93bd401d",
   "metadata": {
    "pycharm": {
     "is_executing": true
    }
   },
   "outputs": [],
   "source": [
    "linked = query.get_one_hop_child_artifacts(\"artifacts/data.xml.gz\")\n",
    "print(\"NAME\")\n",
    "print(linked[\"name\"].to_string(index=False, header=False))\n",
    "print(\"TYPE\")\n",
    "print(linked[\"type\"].to_string(index=False, header=False))\n",
    "print(\"URI\")\n",
    "print(linked[\"uri\"].to_string(index=False, header=False))"
   ]
  },
  {
   "cell_type": "code",
   "execution_count": null,
   "id": "496ee2bc",
   "metadata": {
    "pycharm": {
     "is_executing": true
    }
   },
   "outputs": [],
   "source": [
    "linked = query.get_all_child_artifacts(\"artifacts/data.xml.gz\")\n",
    "#print(linked.sort_values('create_time_since_epoch', ascending=True))\n",
    "print(\"NAME\")\n",
    "print(linked[\"name\"].to_string(index=False, header=False))\n",
    "print(\"TYPE\")\n",
    "print(linked[\"type\"].to_string(index=False, header=False))\n",
    "print(\"URI\")\n",
    "print(linked[\"uri\"].to_string(index=False, header=False))"
   ]
  },
  {
   "cell_type": "code",
   "execution_count": null,
   "id": "1ae1d868",
   "metadata": {
    "pycharm": {
     "is_executing": true
    }
   },
   "outputs": [],
   "source": [
    "linked = query.get_all_artifacts_for_execution(4)\n",
    "print(\"NAME\")\n",
    "print(linked[\"name\"].to_string(index=False, header=False))\n",
    "print(\"TYPE\")\n",
    "print(linked[\"type\"].to_string(index=False, header=False))\n",
    "print(\"URI\")\n",
    "print(linked[\"uri\"].to_string(index=False, header=False))"
   ]
  },
  {
   "cell_type": "markdown",
   "id": "ae3109b7",
   "metadata": {},
   "source": [
    "### Change the metrics name in the get_artifact call with the metrics name from output of the previous cell"
   ]
  },
  {
   "cell_type": "code",
   "execution_count": null,
   "id": "8bf8a41d",
   "metadata": {
    "pycharm": {
     "is_executing": true
    }
   },
   "outputs": [],
   "source": [
    "artifacts = query.get_artifact(\"metrics:aaae534e-915d-11ec-b106-89841b9859cd:4\")\n",
    "print(artifacts)\n"
   ]
  },
  {
   "cell_type": "code",
   "execution_count": null,
   "id": "ca26387d",
   "metadata": {
    "pycharm": {
     "is_executing": true,
     "name": "#%%\n"
    }
   },
   "outputs": [],
   "source": [
    "new_parquet_df = pd.read_parquet(\"./slice-a\")\n",
    "print(new_parquet_df)"
   ]
  }
 ],
 "metadata": {
  "kernelspec": {
   "display_name": "Python 3",
   "language": "python",
   "name": "python3"
  },
  "language_info": {
   "codemirror_mode": {
    "name": "ipython",
    "version": 3
   },
   "file_extension": ".py",
   "mimetype": "text/x-python",
   "name": "python",
   "nbconvert_exporter": "python",
   "pygments_lexer": "ipython3",
   "version": "3.6.9"
  }
 },
 "nbformat": 4,
 "nbformat_minor": 5
}
