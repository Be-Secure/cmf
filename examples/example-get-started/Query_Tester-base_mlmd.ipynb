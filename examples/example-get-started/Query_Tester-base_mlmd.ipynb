{
 "cells": [
  {
   "cell_type": "markdown",
   "id": "92316a38",
   "metadata": {},
   "source": [
    "### This Jupyter notebook provides examples of how the pipeline metadata stored with CMF tracking layer can be queried with CMF query layer."
   ]
  },
  {
   "cell_type": "code",
   "execution_count": 1,
   "id": "d8cecabd",
   "metadata": {},
   "outputs": [],
   "source": [
    "import pandas as pd\n",
    "from cmflib import cmfquery"
   ]
  },
  {
   "cell_type": "markdown",
   "id": "9ae54008",
   "metadata": {},
   "source": [
    "##### Initialize the library and get all the stages in the pipeline\n",
    "Point the library to the metadata file. <br>\n",
    "The `get_pipeline_stages` call point to the different stages in the pipeline."
   ]
  },
  {
   "cell_type": "code",
   "execution_count": null,
   "id": "8b735117",
   "metadata": {
    "pycharm": {
     "is_executing": true
    }
   },
   "outputs": [],
   "source": [
    "query = cmfquery.CmfQuery(\"./mlmd\")\n",
    "stages = query.get_pipeline_stages(\"Test-env\")\n",
    "print(stages)"
   ]
  },
  {
   "cell_type": "markdown",
   "id": "5ac1591f",
   "metadata": {},
   "source": [
    "##### Query the Executions in each stage"
   ]
  },
  {
   "cell_type": "code",
   "execution_count": null,
   "id": "da0ee66d",
   "metadata": {
    "pycharm": {
     "is_executing": true
    }
   },
   "outputs": [],
   "source": [
    "executions = query.get_all_executions_in_stage('Prepare')\n",
    "print(executions)"
   ]
  },
  {
   "cell_type": "markdown",
   "id": "cbc05fd9",
   "metadata": {},
   "source": [
    "##### Query the Executions in each stage\n"
   ]
  },
  {
   "cell_type": "code",
   "execution_count": null,
   "id": "cd81efe0",
   "metadata": {
    "pycharm": {
     "is_executing": true
    }
   },
   "outputs": [],
   "source": [
    "executions = query.get_all_executions_in_stage('Featurize')\n",
    "print(executions)"
   ]
  },
  {
   "cell_type": "markdown",
   "id": "dd5c7d70",
   "metadata": {
    "pycharm": {
     "name": "#%% md\n"
    }
   },
   "source": [
    "##### Query the Executions in each stage"
   ]
  },
  {
   "cell_type": "code",
   "execution_count": null,
   "id": "32c8fd0c",
   "metadata": {
    "pycharm": {
     "is_executing": true
    }
   },
   "outputs": [],
   "source": [
    "executions = query.get_all_executions_in_stage('Train')\n",
    "print(executions)"
   ]
  },
  {
   "cell_type": "markdown",
   "id": "0342196a",
   "metadata": {},
   "source": [
    "##### Query the Executions in each stage"
   ]
  },
  {
   "cell_type": "code",
   "execution_count": null,
   "id": "e1bcfcd0",
   "metadata": {
    "pycharm": {
     "is_executing": true
    }
   },
   "outputs": [],
   "source": [
    "executions = query.get_all_executions_in_stage('Evaluate')\n",
    "print(executions)"
   ]
  },
  {
   "cell_type": "markdown",
   "id": "5a3599af",
   "metadata": {},
   "source": [
    "##### Get all the artifacts of execution. \n",
    "<b>input parameter - execution_id</b><br>\n",
    "<b>output parameter - artifacts</b><br>\n"
   ]
  },
  {
   "cell_type": "code",
   "execution_count": null,
   "id": "6fa93876",
   "metadata": {
    "pycharm": {
     "is_executing": true
    }
   },
   "outputs": [],
   "source": [
    "artifacts = query.get_all_artifacts_for_execution(1)\n",
    "print(artifacts)"
   ]
  },
  {
   "cell_type": "code",
   "execution_count": null,
   "id": "2e82cf28",
   "metadata": {
    "pycharm": {
     "is_executing": true
    }
   },
   "outputs": [],
   "source": [
    "# print(pd.options.display.max_colwidth)\n",
    "pd.options.display.max_colwidth = 75\n",
    "artifacts = query.get_all_artifacts_for_execution(2)\n",
    "\n",
    "# print(artifacts)\n",
    "print(artifacts[\"name\"])\n",
    "print(artifacts[\"event\"])"
   ]
  },
  {
   "cell_type": "markdown",
   "id": "d15b7386",
   "metadata": {},
   "source": [
    "#### get all executions for an artifact(pass the artifact full name as the input parameter)"
   ]
  },
  {
   "cell_type": "code",
   "execution_count": null,
   "id": "f1632d60",
   "metadata": {
    "pycharm": {
     "is_executing": true
    }
   },
   "outputs": [],
   "source": [
    "linked = query.get_all_executions_for_artifact(\"artifacts/data.xml.gz:a304afb96060aad90176268345e10355\")\n",
    "print(linked)"
   ]
  },
  {
   "cell_type": "markdown",
   "id": "7ad864e3",
   "metadata": {},
   "source": [
    "#### Get all the parent artifacts of an artifact. Provides the artifact lineage chain"
   ]
  },
  {
   "cell_type": "code",
   "execution_count": null,
   "id": "09652709",
   "metadata": {
    "pycharm": {
     "is_executing": true
    }
   },
   "outputs": [],
   "source": [
    "linked = query.get_all_parent_artifacts(\"artifacts/features/test.pkl\")\n",
    "print(linked)"
   ]
  },
  {
   "cell_type": "markdown",
   "id": "63b615f1",
   "metadata": {},
   "source": [
    "#### Get all the child artifacts of an artifact. Provides the lineage chain in the downstream direction"
   ]
  },
  {
   "cell_type": "code",
   "execution_count": null,
   "id": "57b85ea6",
   "metadata": {
    "pycharm": {
     "is_executing": true
    }
   },
   "outputs": [],
   "source": [
    "linked = query.get_all_child_artifacts(\"artifacts/features/train.pkl\")\n",
    "\n",
    "print(\"Name : \" + linked[\"name\"].to_string(index=False, header=False))\n",
    "print(\"Type : \" + linked[\"type\"].to_string(index=False, header=False))\n",
    "print(\"URI : \" + linked[\"uri\"].to_string(index=False, header=False))"
   ]
  },
  {
   "cell_type": "markdown",
   "id": "4cf2f2e6",
   "metadata": {
    "pycharm": {
     "name": "#%% md\n"
    }
   },
   "source": [
    "#### Get all the parent artifacts of an artifact. Provides the artifact lineage chain"
   ]
  },
  {
   "cell_type": "code",
   "execution_count": null,
   "id": "493bd571",
   "metadata": {
    "pycharm": {
     "is_executing": true
    }
   },
   "outputs": [],
   "source": [
    "linked = query.get_all_parent_artifacts(\"artifacts/model/model.pkl\")\n",
    "print(\"NAME\")\n",
    "print(linked[\"name\"].to_string(index=False, header=False))\n",
    "print(\"TYPE\")\n",
    "print(linked[\"type\"].to_string(index=False, header=False))\n",
    "print(\"URI\")\n",
    "print(linked[\"uri\"].to_string(index=False, header=False))"
   ]
  },
  {
   "cell_type": "code",
   "execution_count": null,
   "id": "a4c338be",
   "metadata": {
    "pycharm": {
     "is_executing": true
    }
   },
   "outputs": [],
   "source": [
    "linked = query.get_all_parent_artifacts(\"artifacts/parsed/test.tsv\")\n",
    "print(\"Name : \" + linked[\"name\"].to_string(index=False, header=False))\n",
    "print(\"Type : \" + linked[\"type\"].to_string(index=False, header=False))\n",
    "print(\"URI : \" + linked[\"uri\"].to_string(index=False, header=False))"
   ]
  },
  {
   "cell_type": "code",
   "execution_count": null,
   "id": "4eb35ec5",
   "metadata": {
    "pycharm": {
     "is_executing": true
    }
   },
   "outputs": [],
   "source": [
    "linked = query.get_all_child_artifacts(\"artifacts/parsed/test.tsv\")\n",
    "print(\"NAME\")\n",
    "print(linked[\"name\"].to_string(index=False, header=False))\n",
    "print(\"TYPE\")\n",
    "print(linked[\"type\"].to_string(index=False, header=False))\n",
    "print(\"URI\")\n",
    "print(linked[\"uri\"].to_string(index=False, header=False))"
   ]
  },
  {
   "cell_type": "markdown",
   "id": "29060ba9",
   "metadata": {},
   "source": [
    "#### Get immediate child artifacts of an artifact. "
   ]
  },
  {
   "cell_type": "code",
   "execution_count": null,
   "id": "93bd401d",
   "metadata": {
    "pycharm": {
     "is_executing": true
    }
   },
   "outputs": [],
   "source": [
    "linked = query.get_one_hop_child_artifacts(\"artifacts/data.xml.gz\")\n",
    "print(\"NAME\")\n",
    "print(linked[\"name\"].to_string(index=False, header=False))\n",
    "print(\"TYPE\")\n",
    "print(linked[\"type\"].to_string(index=False, header=False))\n",
    "print(\"URI\")\n",
    "print(linked[\"uri\"].to_string(index=False, header=False))"
   ]
  },
  {
   "cell_type": "code",
   "execution_count": null,
   "id": "496ee2bc",
   "metadata": {
    "pycharm": {
     "is_executing": true
    }
   },
   "outputs": [],
   "source": [
    "linked = query.get_all_child_artifacts(\"artifacts/data.xml.gz\")\n",
    "#print(linked.sort_values('create_time_since_epoch', ascending=True))\n",
    "print(\"NAME\")\n",
    "print(linked[\"name\"].to_string(index=False, header=False))\n",
    "print(\"TYPE\")\n",
    "print(linked[\"type\"].to_string(index=False, header=False))\n",
    "print(\"URI\")\n",
    "print(linked[\"uri\"].to_string(index=False, header=False))"
   ]
  },
  {
   "cell_type": "code",
   "execution_count": null,
   "id": "1ae1d868",
   "metadata": {
    "pycharm": {
     "is_executing": true
    }
   },
   "outputs": [],
   "source": [
    "linked = query.get_all_artifacts_for_execution(4)\n",
    "print(\"NAME\")\n",
    "print(linked[\"name\"].to_string(index=False, header=False))\n",
    "print(\"TYPE\")\n",
    "print(linked[\"type\"].to_string(index=False, header=False))\n",
    "print(\"URI\")\n",
    "print(linked[\"uri\"].to_string(index=False, header=False))"
   ]
  },
  {
   "cell_type": "markdown",
   "id": "ae3109b7",
   "metadata": {},
   "source": [
    "### Change the metrics name in the get_artifact call with the metrics name from output of the previous cell"
   ]
  },
  {
   "cell_type": "code",
   "execution_count": null,
   "id": "8bf8a41d",
   "metadata": {
    "pycharm": {
     "is_executing": true
    }
   },
   "outputs": [],
   "source": [
    "artifacts = query.get_artifact(\"metrics:aaae534e-915d-11ec-b106-89841b9859cd:4\")\n",
    "print(artifacts)\n"
   ]
  },
  {
   "cell_type": "code",
   "execution_count": null,
   "id": "ca26387d",
   "metadata": {
    "pycharm": {
     "name": "#%%\n",
     "is_executing": true
    }
   },
   "outputs": [],
   "source": [
    "new_parquet_df = pd.read_parquet(\"./slice-a\")\n",
    "print(new_parquet_df)"
   ]
  }
 ],
 "metadata": {
  "kernelspec": {
   "display_name": "Python 3 (ipykernel)",
   "language": "python",
   "name": "python3"
  },
  "language_info": {
   "codemirror_mode": {
    "name": "ipython",
    "version": 3
   },
   "file_extension": ".py",
   "mimetype": "text/x-python",
   "name": "python",
   "nbconvert_exporter": "python",
   "pygments_lexer": "ipython3",
   "version": "3.8.10"
  }
 },
 "nbformat": 4,
 "nbformat_minor": 5
}