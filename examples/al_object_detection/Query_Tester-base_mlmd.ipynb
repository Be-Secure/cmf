{
 "cells": [
  {
   "cell_type": "code",
   "execution_count": null,
   "id": "5609e71a",
   "metadata": {},
   "outputs": [],
   "source": []
  },
  {
   "cell_type": "markdown",
   "id": "92316a38",
   "metadata": {},
   "source": [
    "### This Jupyter notebook provides examples of how the pipeline metadata stored with CMF tracking layer can be queried with CMF query layer."
   ]
  },
  {
   "cell_type": "code",
   "execution_count": 1,
   "id": "d8cecabd",
   "metadata": {},
   "outputs": [],
   "source": [
    "import pandas as pd\n",
    "from cmflib import cmfquery\n"
   ]
  },
  {
   "cell_type": "markdown",
   "id": "9ae54008",
   "metadata": {},
   "source": [
    "### Initialize the library and get all the stages in the pipeline\n",
    "Point the library to the metadata file. <br>\n",
    "The `get_pipeline_stages` call point to the different stages in the pipeline."
   ]
  },
  {
   "cell_type": "code",
   "execution_count": 2,
   "id": "8b735117",
   "metadata": {
    "pycharm": {
     "is_executing": true
    }
   },
   "outputs": [
    {
     "data": {
      "text/plain": [
       "['active_learning/Initial_select',\n",
       " 'active_learning/Train',\n",
       " 'active_learning/Cycle_Select']"
      ]
     },
     "metadata": {},
     "output_type": "display_data"
    }
   ],
   "source": [
    "query = cmfquery.CmfQuery(\"./mlmd\")\n",
    "pipelines = query.get_pipeline_names()\n",
    "stages = query.get_pipeline_stages(pipelines[0])\n",
    "display(stages)"
   ]
  },
  {
   "cell_type": "markdown",
   "id": "5ac1591f",
   "metadata": {},
   "source": [
    "### Query the Executions in each stage"
   ]
  },
  {
   "cell_type": "code",
   "execution_count": null,
   "id": "da0ee66d",
   "metadata": {
    "pycharm": {
     "is_executing": true
    }
   },
   "outputs": [],
   "source": [
    "for stage in stages:\n",
    "    executions = query.get_all_executions_in_stage(stage)\n",
    "    print(f\"Displaying execution for stage {stage}\")\n",
    "    display(executions)"
   ]
  },
  {
   "cell_type": "markdown",
   "id": "5a3599af",
   "metadata": {},
   "source": [
    "### Get all  artifacts of an execution. \n",
    "<b>input parameter - execution_id</b><br>\n",
    "<b>output parameter - artifacts</b><br>\n"
   ]
  },
  {
   "cell_type": "code",
   "execution_count": null,
   "id": "6fa93876",
   "metadata": {
    "pycharm": {
     "is_executing": true
    }
   },
   "outputs": [],
   "source": [
    "\n",
    "executions = query.get_all_executions_in_stage(stages[0])\n",
    "print(f\"Displaying the artifacts for execution with id {executions.iloc[0]['id']} belonging to {stages[0]}\")\n",
    "artifacts = query.get_all_artifacts_for_execution(executions.iloc[0][\"id\"])\n",
    "display(artifacts)"
   ]
  },
  {
   "cell_type": "markdown",
   "id": "d15b7386",
   "metadata": {},
   "source": [
    "### Get all executions for an artifact (pass the artifact full name as the input parameter)"
   ]
  },
  {
   "cell_type": "code",
   "execution_count": null,
   "id": "f1632d60",
   "metadata": {
    "pycharm": {
     "is_executing": true
    }
   },
   "outputs": [],
   "source": [
    "#Provide the artifact in name:hash format\n",
    "artifacts = query.get_all_artifacts_for_execution(executions.iloc[0]['id'])\n",
    "for index, art in artifacts.iterrows():\n",
    "    if art[\"event\"] == \"INPUT\":\n",
    "        artifact_name = art[\"name\"]\n",
    "        break\n",
    "linked = query.get_all_executions_for_artifact(artifact_name)\n",
    "display(linked)"
   ]
  },
  {
   "cell_type": "markdown",
   "id": "7ad864e3",
   "metadata": {},
   "source": [
    "### Get all the parent artifacts of an artifact. Provides the artifact lineage chain"
   ]
  },
  {
   "cell_type": "code",
   "execution_count": null,
   "id": "09652709",
   "metadata": {
    "pycharm": {
     "is_executing": true
    }
   },
   "outputs": [],
   "source": [
    "artifacts = query.get_all_artifacts_for_execution(2)\n",
    "for index, art in artifacts.iterrows():\n",
    "    if art[\"event\"] == \"OUTPUT\":\n",
    "        artifact_name = art[\"name\"]\n",
    "        break\n",
    "print(f\"Parent artifact of {artifact_name}\")\n",
    "linked = query.get_all_parent_artifacts(artifact_name)\n",
    "display(linked)"
   ]
  },
  {
   "cell_type": "markdown",
   "id": "63b615f1",
   "metadata": {},
   "source": [
    "###  Get all  child artifacts of an artifact. It provides the lineage chain of successors"
   ]
  },
  {
   "cell_type": "code",
   "execution_count": null,
   "id": "57b85ea6",
   "metadata": {
    "pycharm": {
     "is_executing": true
    }
   },
   "outputs": [],
   "source": [
    "artifacts = query.get_all_artifacts_for_execution(1)\n",
    "for index, art in artifacts.iterrows():\n",
    "    if art[\"event\"] == \"INPUT\":\n",
    "        artifact_name = art[\"name\"]\n",
    "        break\n",
    "\n",
    "print(f\"Child artifact of {artifact_name}\")\n",
    "linked = query.get_all_child_artifacts(artifact_name)\n",
    "display(linked)\n"
   ]
  },
  {
   "cell_type": "markdown",
   "id": "4cf2f2e6",
   "metadata": {
    "pycharm": {
     "name": "#%% md\n"
    }
   },
   "source": [
    "### Get all the parent artifacts of an artifact. Provides the artifact lineage chain of predecessors"
   ]
  },
  {
   "cell_type": "code",
   "execution_count": null,
   "id": "493bd571",
   "metadata": {
    "pycharm": {
     "is_executing": true
    }
   },
   "outputs": [],
   "source": [
    "\n",
    "linked = query.get_all_parent_artifacts(linked.iloc[0][\"name\"])\n",
    "display(linked)"
   ]
  },
  {
   "cell_type": "code",
   "execution_count": null,
   "id": "4eb35ec5",
   "metadata": {
    "pycharm": {
     "is_executing": true
    }
   },
   "outputs": [],
   "source": [
    "linked = query.get_all_child_artifacts(linked.iloc[0][\"name\"])\n",
    "display(linked)"
   ]
  },
  {
   "cell_type": "markdown",
   "id": "29060ba9",
   "metadata": {},
   "source": [
    "### Get immediate child artifacts of an artifact. "
   ]
  },
  {
   "cell_type": "code",
   "execution_count": null,
   "id": "93bd401d",
   "metadata": {
    "pycharm": {
     "is_executing": true
    }
   },
   "outputs": [],
   "source": [
    "linked = query.get_one_hop_child_artifacts(artifact_name)\n",
    "display(linked)"
   ]
  },
  {
   "cell_type": "markdown",
   "id": "529817a7",
   "metadata": {},
   "source": [
    "### Get all child artifacts "
   ]
  },
  {
   "cell_type": "code",
   "execution_count": null,
   "id": "496ee2bc",
   "metadata": {
    "pycharm": {
     "is_executing": true
    }
   },
   "outputs": [],
   "source": [
    "linked = query.get_all_child_artifacts(artifact_name)\n",
    "display(linked)"
   ]
  },
  {
   "cell_type": "code",
   "execution_count": null,
   "id": "1ae1d868",
   "metadata": {
    "pycharm": {
     "is_executing": true
    }
   },
   "outputs": [],
   "source": [
    "# Provide Execution id corresponding to a Evaluate stage\n",
    "linked = query.get_all_artifacts_for_execution(4)\n",
    "for index, row in linked.iterrows():\n",
    "    if row[\"type\"] == \"Step_Metrics\":\n",
    "        break\n",
    "\n"
   ]
  },
  {
   "cell_type": "markdown",
   "id": "ae3109b7",
   "metadata": {},
   "source": [
    "### Get artifact "
   ]
  },
  {
   "cell_type": "code",
   "execution_count": null,
   "id": "8bf8a41d",
   "metadata": {
    "pycharm": {
     "is_executing": true
    }
   },
   "outputs": [],
   "source": [
    "artifact = query.get_artifact(row[\"name\"])\n",
    "display(artifact)\n"
   ]
  },
  {
   "cell_type": "code",
   "execution_count": null,
   "id": "c24d8c49",
   "metadata": {},
   "outputs": [],
   "source": [
    "artifacts = query.get_artifact(\"metrics_1:fd4f4f1a73f77d23be7ae7c7f72c834a:6:f8e54b50-d426-11ed-a37a-d4c9efcecfde\")\n",
    "display(artifacts)"
   ]
  },
  {
   "cell_type": "code",
   "execution_count": 3,
   "id": "852f6463",
   "metadata": {},
   "outputs": [
    {
     "data": {
      "text/html": [
       "<div>\n",
       "<style scoped>\n",
       "    .dataframe tbody tr th:only-of-type {\n",
       "        vertical-align: middle;\n",
       "    }\n",
       "\n",
       "    .dataframe tbody tr th {\n",
       "        vertical-align: top;\n",
       "    }\n",
       "\n",
       "    .dataframe thead th {\n",
       "        text-align: right;\n",
       "    }\n",
       "</style>\n",
       "<table border=\"1\" class=\"dataframe\">\n",
       "  <thead>\n",
       "    <tr style=\"text-align: right;\">\n",
       "      <th></th>\n",
       "      <th>cluster_distance</th>\n",
       "    </tr>\n",
       "    <tr>\n",
       "      <th>Path</th>\n",
       "      <th></th>\n",
       "    </tr>\n",
       "  </thead>\n",
       "  <tbody>\n",
       "    <tr>\n",
       "      <th>hdcdatasets/hdc_single/JPEGImages/000107.jpg</th>\n",
       "      <td>0.45611964897696833</td>\n",
       "    </tr>\n",
       "    <tr>\n",
       "      <th>hdcdatasets/hdc_single/JPEGImages/000174.jpg</th>\n",
       "      <td>0.9033231539802643</td>\n",
       "    </tr>\n",
       "    <tr>\n",
       "      <th>hdcdatasets/hdc_single/JPEGImages/000211.jpg</th>\n",
       "      <td>0.4343754968307887</td>\n",
       "    </tr>\n",
       "    <tr>\n",
       "      <th>hdcdatasets/hdc_single/JPEGImages/000228.jpg</th>\n",
       "      <td>0.5006266907917188</td>\n",
       "    </tr>\n",
       "    <tr>\n",
       "      <th>hdcdatasets/hdc_single/JPEGImages/000242.jpg</th>\n",
       "      <td>0.8113594841043066</td>\n",
       "    </tr>\n",
       "    <tr>\n",
       "      <th>...</th>\n",
       "      <td>...</td>\n",
       "    </tr>\n",
       "    <tr>\n",
       "      <th>hdcdatasets/hdc_single/JPEGImages/2011_003066.jpg</th>\n",
       "      <td>0.4562636710967408</td>\n",
       "    </tr>\n",
       "    <tr>\n",
       "      <th>hdcdatasets/hdc_single/JPEGImages/2011_003194.jpg</th>\n",
       "      <td>0.7199558878656946</td>\n",
       "    </tr>\n",
       "    <tr>\n",
       "      <th>hdcdatasets/hdc_single/JPEGImages/2011_003230.jpg</th>\n",
       "      <td>0.5480589223524482</td>\n",
       "    </tr>\n",
       "    <tr>\n",
       "      <th>hdcdatasets/hdc_single/JPEGImages/2011_003238.jpg</th>\n",
       "      <td>0.7264216245977809</td>\n",
       "    </tr>\n",
       "    <tr>\n",
       "      <th>hdcdatasets/hdc_single/JPEGImages/2011_003242.jpg</th>\n",
       "      <td>0.06922259668603459</td>\n",
       "    </tr>\n",
       "  </tbody>\n",
       "</table>\n",
       "<p>1240 rows × 1 columns</p>\n",
       "</div>"
      ],
      "text/plain": [
       "                                                      cluster_distance\n",
       "Path                                                                  \n",
       "hdcdatasets/hdc_single/JPEGImages/000107.jpg       0.45611964897696833\n",
       "hdcdatasets/hdc_single/JPEGImages/000174.jpg        0.9033231539802643\n",
       "hdcdatasets/hdc_single/JPEGImages/000211.jpg        0.4343754968307887\n",
       "hdcdatasets/hdc_single/JPEGImages/000228.jpg        0.5006266907917188\n",
       "hdcdatasets/hdc_single/JPEGImages/000242.jpg        0.8113594841043066\n",
       "...                                                                ...\n",
       "hdcdatasets/hdc_single/JPEGImages/2011_003066.jpg   0.4562636710967408\n",
       "hdcdatasets/hdc_single/JPEGImages/2011_003194.jpg   0.7199558878656946\n",
       "hdcdatasets/hdc_single/JPEGImages/2011_003230.jpg   0.5480589223524482\n",
       "hdcdatasets/hdc_single/JPEGImages/2011_003238.jpg   0.7264216245977809\n",
       "hdcdatasets/hdc_single/JPEGImages/2011_003242.jpg  0.06922259668603459\n",
       "\n",
       "[1240 rows x 1 columns]"
      ]
     },
     "metadata": {},
     "output_type": "display_data"
    }
   ],
   "source": [
    "df = query.read_dataslice(\"slice_1\")\n",
    "df = df.drop(\"Uncertinity\", axis = 1)\n",
    "display(df)"
   ]
  },
  {
   "cell_type": "code",
   "execution_count": 4,
   "id": "0ee0dd65",
   "metadata": {},
   "outputs": [
    {
     "data": {
      "text/html": [
       "<div>\n",
       "<style scoped>\n",
       "    .dataframe tbody tr th:only-of-type {\n",
       "        vertical-align: middle;\n",
       "    }\n",
       "\n",
       "    .dataframe tbody tr th {\n",
       "        vertical-align: top;\n",
       "    }\n",
       "\n",
       "    .dataframe thead th {\n",
       "        text-align: right;\n",
       "    }\n",
       "</style>\n",
       "<table border=\"1\" class=\"dataframe\">\n",
       "  <thead>\n",
       "    <tr style=\"text-align: right;\">\n",
       "      <th></th>\n",
       "      <th>id</th>\n",
       "      <th>type</th>\n",
       "      <th>uri</th>\n",
       "      <th>name</th>\n",
       "      <th>create_time_since_epoch</th>\n",
       "      <th>last_update_time_since_epoch</th>\n",
       "      <th>median</th>\n",
       "      <th>mean</th>\n",
       "      <th>git_repo</th>\n",
       "      <th>Commit</th>\n",
       "      <th>Remote</th>\n",
       "    </tr>\n",
       "  </thead>\n",
       "  <tbody>\n",
       "    <tr>\n",
       "      <th>0</th>\n",
       "      <td>18</td>\n",
       "      <td>Dataslice</td>\n",
       "      <td>6267c2069f4b3e5aea8ee2f8c012c4de</td>\n",
       "      <td>slice_2:6267c2069f4b3e5aea8ee2f8c012c4de</td>\n",
       "      <td>1680749417271</td>\n",
       "      <td>1680749417271</td>\n",
       "      <td>6.097564e-06</td>\n",
       "      <td>6.0782277e-06</td>\n",
       "      <td>/tmp/remote</td>\n",
       "      <td>6267c2069f4b3e5aea8ee2f8c012c4de</td>\n",
       "      <td>/tmp/myremote/62/67c2069f4b3e5aea8ee2f8c012c4de</td>\n",
       "    </tr>\n",
       "  </tbody>\n",
       "</table>\n",
       "</div>"
      ],
      "text/plain": [
       "   id       type                               uri  \\\n",
       "0  18  Dataslice  6267c2069f4b3e5aea8ee2f8c012c4de   \n",
       "\n",
       "                                       name  create_time_since_epoch  \\\n",
       "0  slice_2:6267c2069f4b3e5aea8ee2f8c012c4de            1680749417271   \n",
       "\n",
       "   last_update_time_since_epoch        median           mean     git_repo  \\\n",
       "0                 1680749417271  6.097564e-06  6.0782277e-06  /tmp/remote   \n",
       "\n",
       "                             Commit  \\\n",
       "0  6267c2069f4b3e5aea8ee2f8c012c4de   \n",
       "\n",
       "                                            Remote  \n",
       "0  /tmp/myremote/62/67c2069f4b3e5aea8ee2f8c012c4de  "
      ]
     },
     "metadata": {},
     "output_type": "display_data"
    },
    {
     "name": "stdout",
     "output_type": "stream",
     "text": [
      "                                       name          mean         median  \\\n",
      "0  slice_1:3eef0041cb7851dc19f5509201246d18  7.785772e-08  7.7003534e-08   \n",
      "\n",
      "                                       name        median           mean  \\\n",
      "0  slice_2:6267c2069f4b3e5aea8ee2f8c012c4de  6.097564e-06  6.0782277e-06   \n",
      "\n",
      "                                       name           mean         median  \n",
      "0  slice_3:e95c79451b72ff42ee4a168c84cea684  1.3491577e-06  1.3451602e-06  \n"
     ]
    }
   ],
   "source": [
    "df = query.get_artifact(\"slice_2:6267c2069f4b3e5aea8ee2f8c012c4de\")\n",
    "display(df)\n",
    "df1 = df.drop(df.columns.difference(['name','median','mean']), axis=1, inplace=False)\n",
    "df = query.get_artifact(\"slice_1:3eef0041cb7851dc19f5509201246d18\")\n",
    "df2 = df.drop(df.columns.difference(['name','median','mean']), axis=1, inplace=False)\n",
    "\n",
    "df = query.get_artifact(\"slice_3:e95c79451b72ff42ee4a168c84cea684\")\n",
    "df3 = df.drop(df.columns.difference(['name','median','mean']), axis=1, inplace=False)\n",
    "df = pd.concat([df2, df1, df3], axis=1)\n",
    "print(df)"
   ]
  },
  {
   "cell_type": "code",
   "execution_count": 6,
   "id": "07176801",
   "metadata": {},
   "outputs": [
    {
     "data": {
      "text/html": [
       "<div>\n",
       "<style scoped>\n",
       "    .dataframe tbody tr th:only-of-type {\n",
       "        vertical-align: middle;\n",
       "    }\n",
       "\n",
       "    .dataframe tbody tr th {\n",
       "        vertical-align: top;\n",
       "    }\n",
       "\n",
       "    .dataframe thead th {\n",
       "        text-align: right;\n",
       "    }\n",
       "</style>\n",
       "<table border=\"1\" class=\"dataframe\">\n",
       "  <thead>\n",
       "    <tr style=\"text-align: right;\">\n",
       "      <th></th>\n",
       "      <th>train/l_det_cls</th>\n",
       "      <th>train/l_det_loc</th>\n",
       "      <th>train/l_imgcls</th>\n",
       "      <th>train/L_det</th>\n",
       "      <th>train/grad_norm</th>\n",
       "      <th>learning_rate</th>\n",
       "      <th>momentum</th>\n",
       "      <th>val/mAP</th>\n",
       "    </tr>\n",
       "    <tr>\n",
       "      <th>SequenceNumber</th>\n",
       "      <th></th>\n",
       "      <th></th>\n",
       "      <th></th>\n",
       "      <th></th>\n",
       "      <th></th>\n",
       "      <th></th>\n",
       "      <th></th>\n",
       "      <th></th>\n",
       "    </tr>\n",
       "  </thead>\n",
       "  <tbody>\n",
       "    <tr>\n",
       "      <th>1</th>\n",
       "      <td>0.089573</td>\n",
       "      <td>0.0</td>\n",
       "      <td>1.313254</td>\n",
       "      <td>1.402827</td>\n",
       "      <td>0.086545</td>\n",
       "      <td>0.001</td>\n",
       "      <td>0.9</td>\n",
       "      <td>NaN</td>\n",
       "    </tr>\n",
       "    <tr>\n",
       "      <th>2</th>\n",
       "      <td>0.086868</td>\n",
       "      <td>0.0</td>\n",
       "      <td>1.313254</td>\n",
       "      <td>1.400122</td>\n",
       "      <td>0.103774</td>\n",
       "      <td>0.001</td>\n",
       "      <td>0.9</td>\n",
       "      <td>NaN</td>\n",
       "    </tr>\n",
       "    <tr>\n",
       "      <th>3</th>\n",
       "      <td>NaN</td>\n",
       "      <td>NaN</td>\n",
       "      <td>NaN</td>\n",
       "      <td>NaN</td>\n",
       "      <td>NaN</td>\n",
       "      <td>0.001</td>\n",
       "      <td>0.9</td>\n",
       "      <td>0.0</td>\n",
       "    </tr>\n",
       "  </tbody>\n",
       "</table>\n",
       "</div>"
      ],
      "text/plain": [
       "                train/l_det_cls  train/l_det_loc  train/l_imgcls  train/L_det  \\\n",
       "SequenceNumber                                                                  \n",
       "1                      0.089573              0.0        1.313254     1.402827   \n",
       "2                      0.086868              0.0        1.313254     1.400122   \n",
       "3                           NaN              NaN             NaN          NaN   \n",
       "\n",
       "                train/grad_norm  learning_rate  momentum  val/mAP  \n",
       "SequenceNumber                                                     \n",
       "1                      0.086545          0.001       0.9      NaN  \n",
       "2                      0.103774          0.001       0.9      NaN  \n",
       "3                           NaN          0.001       0.9      0.0  "
      ]
     },
     "metadata": {},
     "output_type": "display_data"
    }
   ],
   "source": [
    "#df = query.get_metrics(\"metrics_1:388f94930ac804605b96ba8127d214ef:4:30980540-d424-11ed-a37a-d4c9efcecfde\")\n",
    "df = pd.read_parquet(\"metrics_1\")\n",
    "display(df)"
   ]
  },
  {
   "cell_type": "code",
   "execution_count": null,
   "id": "8c62edb0",
   "metadata": {},
   "outputs": [],
   "source": []
  }
 ],
 "metadata": {
  "kernelspec": {
   "display_name": "Python 3 (ipykernel)",
   "language": "python",
   "name": "python3"
  },
  "language_info": {
   "codemirror_mode": {
    "name": "ipython",
    "version": 3
   },
   "file_extension": ".py",
   "mimetype": "text/x-python",
   "name": "python",
   "nbconvert_exporter": "python",
   "pygments_lexer": "ipython3",
   "version": "3.8.15"
  }
 },
 "nbformat": 4,
 "nbformat_minor": 5
}
