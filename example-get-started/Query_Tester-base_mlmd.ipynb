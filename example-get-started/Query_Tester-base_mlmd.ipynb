{
 "cells": [
  {
   "cell_type": "markdown",
   "id": "92316a38",
   "metadata": {},
   "source": [
    "### This notebook provides some examples of how the metadata stored can be queried."
   ]
  },
  {
   "cell_type": "code",
   "execution_count": 1,
   "id": "d8cecabd",
   "metadata": {},
   "outputs": [],
   "source": [
    "import pandas as pd\n",
    "from datetime import datetime\n",
    "from uuid import uuid4\n",
    "from cmflib import cmfquery"
   ]
  },
  {
   "cell_type": "markdown",
   "id": "9ae54008",
   "metadata": {},
   "source": [
    "##### Initilaize the library and get all the stages in the pipeline\n",
    "Point the library to the metadata file. <br>\n",
    "get_pipeline_stages call point to the different stages in the pipeline"
   ]
  },
  {
   "cell_type": "code",
   "execution_count": 2,
   "id": "8b735117",
   "metadata": {},
   "outputs": [
    {
     "name": "stdout",
     "output_type": "stream",
     "text": [
      "['Prepare', 'Featurize', 'Train', 'Evaluate']\n"
     ]
    }
   ],
   "source": [
    "query = cmfquery.CmfQuery(\"/home/royann/example-get-started/mlmd\")\n",
    "stages = query.get_pipeline_stages(\"Test-env\")\n",
    "print(stages)"
   ]
  },
  {
   "cell_type": "markdown",
   "id": "5ac1591f",
   "metadata": {},
   "source": [
    "##### Query the Executions in each stage"
   ]
  },
  {
   "cell_type": "code",
   "execution_count": 3,
   "id": "da0ee66d",
   "metadata": {},
   "outputs": [
    {
     "name": "stdout",
     "output_type": "stream",
     "text": [
      "<ml_metadata.metadata_store.metadata_store.MetadataStore object at 0x7f82b0c6abe0>\n",
      "   Context_ID Context_Type                            Execution  \\\n",
      "0           2      Prepare  ['src/prepare.py', 'data/data.xml']   \n",
      "\n",
      "  Git_End_Commit                                         Git_Repo  \\\n",
      "0                 git@github.hpe.com:annmary-roy/crop-dataset.git   \n",
      "\n",
      "  Git_Start_Commit Pipeline_Type  Pipeline_id  id  user-metadata1  \n",
      "0                       Test-env            1   1  metadata_value  \n"
     ]
    }
   ],
   "source": [
    "executions = query.get_all_executions_in_stage('Prepare')\n",
    "print(executions)"
   ]
  },
  {
   "cell_type": "markdown",
   "id": "cbc05fd9",
   "metadata": {},
   "source": [
    "##### Query the Executions in each stage\n"
   ]
  },
  {
   "cell_type": "code",
   "execution_count": 4,
   "id": "cd81efe0",
   "metadata": {},
   "outputs": [
    {
     "name": "stdout",
     "output_type": "stream",
     "text": [
      "<ml_metadata.metadata_store.metadata_store.MetadataStore object at 0x7f82b0c6abe0>\n",
      "   Context_ID         Context_Type  \\\n",
      "0           3  Featurize-execution   \n",
      "\n",
      "                                           Execution Git_End_Commit  \\\n",
      "0  ['src/featurization.py', 'data/prepared', 'dat...                  \n",
      "\n",
      "                                          Git_Repo Git_Start_Commit  \\\n",
      "0  git@github.hpe.com:annmary-roy/crop-dataset.git                    \n",
      "\n",
      "  Pipeline_Type  Pipeline_id  id  \n",
      "0      Test-env            1   2  \n"
     ]
    }
   ],
   "source": [
    "executions = query.get_all_executions_in_stage('Featurize')\n",
    "print(executions)"
   ]
  },
  {
   "cell_type": "code",
   "execution_count": 5,
   "id": "dd5c7d70",
   "metadata": {},
   "outputs": [],
   "source": [
    "##### Query the Executions in each stage"
   ]
  },
  {
   "cell_type": "code",
   "execution_count": 6,
   "id": "32c8fd0c",
   "metadata": {},
   "outputs": [
    {
     "name": "stdout",
     "output_type": "stream",
     "text": [
      "<ml_metadata.metadata_store.metadata_store.MetadataStore object at 0x7f82b0c6abe0>\n",
      "   Context_ID     Context_Type  \\\n",
      "0           4  Train-execution   \n",
      "\n",
      "                                        Execution Git_End_Commit  \\\n",
      "0  ['src/train.py', 'data/features', 'model.pkl']                  \n",
      "\n",
      "                                          Git_Repo Git_Start_Commit  \\\n",
      "0  git@github.hpe.com:annmary-roy/crop-dataset.git                    \n",
      "\n",
      "  Pipeline_Type  Pipeline_id  id  \n",
      "0      Test-env            1   3  \n"
     ]
    }
   ],
   "source": [
    "executions = query.get_all_executions_in_stage('Train')\n",
    "print(executions)"
   ]
  },
  {
   "cell_type": "markdown",
   "id": "0342196a",
   "metadata": {},
   "source": [
    "##### Query the Executions in each stage"
   ]
  },
  {
   "cell_type": "code",
   "execution_count": 7,
   "id": "e1bcfcd0",
   "metadata": {},
   "outputs": [
    {
     "name": "stdout",
     "output_type": "stream",
     "text": [
      "<ml_metadata.metadata_store.metadata_store.MetadataStore object at 0x7f82b0c6abe0>\n",
      "   Context_ID        Context_Type  \\\n",
      "0           5  Evaluate-execution   \n",
      "\n",
      "                                           Execution Git_End_Commit  \\\n",
      "0  ['src/evaluate.py', 'model.pkl', 'data/feature...                  \n",
      "\n",
      "                                          Git_Repo Git_Start_Commit  \\\n",
      "0  git@github.hpe.com:annmary-roy/crop-dataset.git                    \n",
      "\n",
      "  Pipeline_Type  Pipeline_id  id  \n",
      "0      Test-env            1   4  \n"
     ]
    }
   ],
   "source": [
    "executions = query.get_all_executions_in_stage('Evaluate')\n",
    "print(executions)"
   ]
  },
  {
   "cell_type": "markdown",
   "id": "5a3599af",
   "metadata": {},
   "source": [
    "##### Get all the artifacts of execution. \n",
    "<b>input parameter - execution_id</b><br>\n",
    "<b>output parameter - artifacts</b><br>\n"
   ]
  },
  {
   "cell_type": "code",
   "execution_count": 8,
   "id": "6fa93876",
   "metadata": {},
   "outputs": [
    {
     "name": "stdout",
     "output_type": "stream",
     "text": [
      "                                            Commit  \\\n",
      "0  commit d17409c492cc3631ac079499a6b9a2f81f34d04a   \n",
      "1  commit 793d32d05844d13d18e6749b2f3202b64f4112cf   \n",
      "2  commit a26b4dfff249bfa00bc6ef5a5f290345f5eaddb7   \n",
      "3  commit 80e9ef9db02db5bf07f7d1393afa50991317d9bc   \n",
      "\n",
      "                                            Remote  create_time_since_epoch  \\\n",
      "0                                              NaN            1645259153600   \n",
      "1  /tmp/myremote/89/3d3766ae7b0951e6bac6d83a5d9c58            1645259155826   \n",
      "2                                              NaN            1645259160057   \n",
      "3                                              NaN            1645259161119   \n",
      "\n",
      "    event                                         git_repo  id  \\\n",
      "0   INPUT  git@github.hpe.com:annmary-roy/crop-dataset.git   1   \n",
      "1  OUTPUT  git@github.hpe.com:annmary-roy/crop-dataset.git   2   \n",
      "2  OUTPUT  git@github.hpe.com:annmary-roy/crop-dataset.git   3   \n",
      "3  OUTPUT  git@github.hpe.com:annmary-roy/crop-dataset.git   4   \n",
      "\n",
      "   last_update_time_since_epoch  \\\n",
      "0                 1645259153600   \n",
      "1                 1645259155826   \n",
      "2                 1645259160057   \n",
      "3                 1645259161119   \n",
      "\n",
      "                                                name       type  \\\n",
      "0     data/data.xml:a304afb96060aad90176268345e10355    Dataset   \n",
      "1           slice-a:893d3766ae7b0951e6bac6d83a5d9c58  Dataslice   \n",
      "2  data/prepared/train.tsv:15316092c623e119923f79...    Dataset   \n",
      "3  data/prepared/test.tsv:429fa355ff389d290b5eded...    Dataset   \n",
      "\n",
      "                                uri  user-metadata1  \n",
      "0  a304afb96060aad90176268345e10355  metadata_value  \n",
      "1  893d3766ae7b0951e6bac6d83a5d9c58             NaN  \n",
      "2  15316092c623e119923f797ff16976d4             NaN  \n",
      "3  429fa355ff389d290b5ededb39f7106c             NaN  \n"
     ]
    }
   ],
   "source": [
    "artifacts = query.get_all_artifacts_for_execution(1)\n",
    "print(artifacts)"
   ]
  },
  {
   "cell_type": "code",
   "execution_count": 9,
   "id": "2e82cf28",
   "metadata": {},
   "outputs": [
    {
     "name": "stdout",
     "output_type": "stream",
     "text": [
      "0    data/prepared/train.tsv:15316092c623e119923f797ff16976d4\n",
      "1     data/prepared/test.tsv:429fa355ff389d290b5ededb39f7106c\n",
      "2    data/features/train.pkl:300fa23207dd4af0fe77e1a1b33eb6e1\n",
      "3     data/features/test.pkl:16de98c80d596309179763e87eb49bd4\n",
      "Name: name, dtype: object\n",
      "0     INPUT\n",
      "1     INPUT\n",
      "2    OUTPUT\n",
      "3    OUTPUT\n",
      "Name: event, dtype: object\n"
     ]
    }
   ],
   "source": [
    "#print(pd.options.display.max_colwidth)\n",
    "pd.options.display.max_colwidth = 75\n",
    "artifacts = query.get_all_artifacts_for_execution(2)\n",
    "#print(artifacts)\n",
    "print(artifacts[\"name\"])\n",
    "print(artifacts[\"event\"])"
   ]
  },
  {
   "cell_type": "markdown",
   "id": "d15b7386",
   "metadata": {},
   "source": [
    "#### get all executions for an artifact(pass the artifact full name as the input parameter)"
   ]
  },
  {
   "cell_type": "code",
   "execution_count": 10,
   "id": "f1632d60",
   "metadata": {},
   "outputs": [
    {
     "name": "stdout",
     "output_type": "stream",
     "text": [
      "    Type  execution_id execution_name  pipeline    stage\n",
      "0  INPUT             1                 Test-env  Prepare\n"
     ]
    }
   ],
   "source": [
    "linked = query.get_all_executions_for_artifact(\"data/data.xml:a304afb96060aad90176268345e10355\")\n",
    "print(linked)"
   ]
  },
  {
   "cell_type": "markdown",
   "id": "7ad864e3",
   "metadata": {},
   "source": [
    "#### Get all the parent artifacts of an artifact. Provides the artifact lineage chain"
   ]
  },
  {
   "cell_type": "code",
   "execution_count": 11,
   "id": "09652709",
   "metadata": {},
   "outputs": [
    {
     "name": "stdout",
     "output_type": "stream",
     "text": [
      "                                            Commit  create_time_since_epoch  \\\n",
      "0  commit a26b4dfff249bfa00bc6ef5a5f290345f5eaddb7            1645259160057   \n",
      "1  commit 80e9ef9db02db5bf07f7d1393afa50991317d9bc            1645259161119   \n",
      "2  commit d17409c492cc3631ac079499a6b9a2f81f34d04a            1645259153600   \n",
      "\n",
      "                                          git_repo  id  \\\n",
      "0  git@github.hpe.com:annmary-roy/crop-dataset.git   3   \n",
      "1  git@github.hpe.com:annmary-roy/crop-dataset.git   4   \n",
      "2  git@github.hpe.com:annmary-roy/crop-dataset.git   1   \n",
      "\n",
      "   last_update_time_since_epoch  \\\n",
      "0                 1645259160057   \n",
      "1                 1645259161119   \n",
      "2                 1645259153600   \n",
      "\n",
      "                                                       name     type  \\\n",
      "0  data/prepared/train.tsv:15316092c623e119923f797ff16976d4  Dataset   \n",
      "1   data/prepared/test.tsv:429fa355ff389d290b5ededb39f7106c  Dataset   \n",
      "2            data/data.xml:a304afb96060aad90176268345e10355  Dataset   \n",
      "\n",
      "                                uri  user-metadata1  \n",
      "0  15316092c623e119923f797ff16976d4             NaN  \n",
      "1  429fa355ff389d290b5ededb39f7106c             NaN  \n",
      "2  a304afb96060aad90176268345e10355  metadata_value  \n"
     ]
    }
   ],
   "source": [
    "linked = query.get_all_parent_artifacts(\"data/features/test.pkl\")\n",
    "print(linked)"
   ]
  },
  {
   "cell_type": "markdown",
   "id": "63b615f1",
   "metadata": {},
   "source": [
    "#### Get all the child artifacts of an artifact. Provides the lineage chain in the downstream direction"
   ]
  },
  {
   "cell_type": "code",
   "execution_count": 12,
   "id": "57b85ea6",
   "metadata": {},
   "outputs": [
    {
     "name": "stdout",
     "output_type": "stream",
     "text": [
      "Name :   model.pkl:19834dbd1c609a4d4fa188a6cae92944:3\n",
      "metrics:aaae534e-915d-11ec-b106-89841b9859cd:4\n",
      "Type :   Model\n",
      "Metrics\n",
      "URI :     19834dbd1c609a4d4fa188a6cae92944\n",
      "aaae534e-915d-11ec-b106-89841b9859cd\n"
     ]
    }
   ],
   "source": [
    "linked = query.get_all_child_artifacts(\"data/features/train.pkl\")\n",
    "\n",
    "print(\"Name : \" + linked[\"name\"].to_string(index=False, header=False))\n",
    "print(\"Type : \" + linked[\"type\"].to_string(index=False, header=False))\n",
    "print(\"URI : \" + linked[\"uri\"].to_string(index=False, header=False))"
   ]
  },
  {
   "cell_type": "code",
   "execution_count": 13,
   "id": "4cf2f2e6",
   "metadata": {},
   "outputs": [],
   "source": [
    "#### Get all the parent artifacts of an artifact. Provides the artifact lineage chain"
   ]
  },
  {
   "cell_type": "code",
   "execution_count": 14,
   "id": "493bd571",
   "metadata": {},
   "outputs": [
    {
     "name": "stdout",
     "output_type": "stream",
     "text": [
      "NAME\n",
      "data/features/train.pkl:300fa23207dd4af0fe77e1a1b33eb6e1\n",
      "data/prepared/train.tsv:15316092c623e119923f797ff16976d4\n",
      " data/prepared/test.tsv:429fa355ff389d290b5ededb39f7106c\n",
      "          data/data.xml:a304afb96060aad90176268345e10355\n",
      "TYPE\n",
      "Dataset\n",
      "Dataset\n",
      "Dataset\n",
      "Dataset\n",
      "URI\n",
      "300fa23207dd4af0fe77e1a1b33eb6e1\n",
      "15316092c623e119923f797ff16976d4\n",
      "429fa355ff389d290b5ededb39f7106c\n",
      "a304afb96060aad90176268345e10355\n"
     ]
    }
   ],
   "source": [
    "linked = query.get_all_parent_artifacts(\"model.pkl\")\n",
    "print(\"NAME\")\n",
    "print(linked[\"name\"].to_string(index=False, header=False))\n",
    "print(\"TYPE\")\n",
    "print(linked[\"type\"].to_string(index=False, header=False))\n",
    "print(\"URI\")\n",
    "print(linked[\"uri\"].to_string(index=False, header=False))"
   ]
  },
  {
   "cell_type": "code",
   "execution_count": 15,
   "id": "a4c338be",
   "metadata": {},
   "outputs": [
    {
     "name": "stdout",
     "output_type": "stream",
     "text": [
      "Name : data/data.xml:a304afb96060aad90176268345e10355\n",
      "Type : Dataset\n",
      "URI : a304afb96060aad90176268345e10355\n"
     ]
    }
   ],
   "source": [
    "linked = query.get_all_parent_artifacts(\"data/prepared/test.tsv\")\n",
    "print(\"Name : \" + linked[\"name\"].to_string(index=False, header=False))\n",
    "print(\"Type : \" + linked[\"type\"].to_string(index=False, header=False))\n",
    "print(\"URI : \" + linked[\"uri\"].to_string(index=False, header=False))"
   ]
  },
  {
   "cell_type": "code",
   "execution_count": 16,
   "id": "4eb35ec5",
   "metadata": {},
   "outputs": [
    {
     "name": "stdout",
     "output_type": "stream",
     "text": [
      "NAME\n",
      "data/features/train.pkl:300fa23207dd4af0fe77e1a1b33eb6e1\n",
      " data/features/test.pkl:16de98c80d596309179763e87eb49bd4\n",
      "            model.pkl:19834dbd1c609a4d4fa188a6cae92944:3\n",
      "          metrics:aaae534e-915d-11ec-b106-89841b9859cd:4\n",
      "TYPE\n",
      "Dataset\n",
      "Dataset\n",
      "  Model\n",
      "Metrics\n",
      "URI\n",
      "    300fa23207dd4af0fe77e1a1b33eb6e1\n",
      "    16de98c80d596309179763e87eb49bd4\n",
      "    19834dbd1c609a4d4fa188a6cae92944\n",
      "aaae534e-915d-11ec-b106-89841b9859cd\n"
     ]
    }
   ],
   "source": [
    "linked = query.get_all_child_artifacts(\"data/prepared/test.tsv\")\n",
    "print(\"NAME\")\n",
    "print(linked[\"name\"].to_string(index=False, header=False))\n",
    "print(\"TYPE\")\n",
    "print(linked[\"type\"].to_string(index=False, header=False))\n",
    "print(\"URI\")\n",
    "print(linked[\"uri\"].to_string(index=False, header=False))"
   ]
  },
  {
   "cell_type": "markdown",
   "id": "29060ba9",
   "metadata": {},
   "source": [
    "#### Get immediate child artifacts of an artifact. "
   ]
  },
  {
   "cell_type": "code",
   "execution_count": 17,
   "id": "93bd401d",
   "metadata": {},
   "outputs": [
    {
     "name": "stdout",
     "output_type": "stream",
     "text": [
      "NAME\n",
      "                slice-a:893d3766ae7b0951e6bac6d83a5d9c58\n",
      "data/prepared/train.tsv:15316092c623e119923f797ff16976d4\n",
      " data/prepared/test.tsv:429fa355ff389d290b5ededb39f7106c\n",
      "TYPE\n",
      "Dataslice\n",
      "  Dataset\n",
      "  Dataset\n",
      "URI\n",
      "893d3766ae7b0951e6bac6d83a5d9c58\n",
      "15316092c623e119923f797ff16976d4\n",
      "429fa355ff389d290b5ededb39f7106c\n"
     ]
    }
   ],
   "source": [
    "linked = query.get_one_hop_child_artifacts(\"data/data.xml\")\n",
    "print(\"NAME\")\n",
    "print(linked[\"name\"].to_string(index=False, header=False))\n",
    "print(\"TYPE\")\n",
    "print(linked[\"type\"].to_string(index=False, header=False))\n",
    "print(\"URI\")\n",
    "print(linked[\"uri\"].to_string(index=False, header=False))"
   ]
  },
  {
   "cell_type": "code",
   "execution_count": 18,
   "id": "496ee2bc",
   "metadata": {},
   "outputs": [
    {
     "name": "stdout",
     "output_type": "stream",
     "text": [
      "NAME\n",
      "                slice-a:893d3766ae7b0951e6bac6d83a5d9c58\n",
      "data/prepared/train.tsv:15316092c623e119923f797ff16976d4\n",
      " data/prepared/test.tsv:429fa355ff389d290b5ededb39f7106c\n",
      "data/features/train.pkl:300fa23207dd4af0fe77e1a1b33eb6e1\n",
      " data/features/test.pkl:16de98c80d596309179763e87eb49bd4\n",
      "            model.pkl:19834dbd1c609a4d4fa188a6cae92944:3\n",
      "          metrics:aaae534e-915d-11ec-b106-89841b9859cd:4\n",
      "TYPE\n",
      "Dataslice\n",
      "  Dataset\n",
      "  Dataset\n",
      "  Dataset\n",
      "  Dataset\n",
      "    Model\n",
      "  Metrics\n",
      "URI\n",
      "    893d3766ae7b0951e6bac6d83a5d9c58\n",
      "    15316092c623e119923f797ff16976d4\n",
      "    429fa355ff389d290b5ededb39f7106c\n",
      "    300fa23207dd4af0fe77e1a1b33eb6e1\n",
      "    16de98c80d596309179763e87eb49bd4\n",
      "    19834dbd1c609a4d4fa188a6cae92944\n",
      "aaae534e-915d-11ec-b106-89841b9859cd\n"
     ]
    }
   ],
   "source": [
    "linked = query.get_all_child_artifacts(\"data/data.xml\")\n",
    "#print(linked.sort_values('create_time_since_epoch', ascending=True))\n",
    "print(\"NAME\")\n",
    "print(linked[\"name\"].to_string(index=False, header=False))\n",
    "print(\"TYPE\")\n",
    "print(linked[\"type\"].to_string(index=False, header=False))\n",
    "print(\"URI\")\n",
    "print(linked[\"uri\"].to_string(index=False, header=False))"
   ]
  },
  {
   "cell_type": "code",
   "execution_count": 19,
   "id": "1ae1d868",
   "metadata": {},
   "outputs": [
    {
     "name": "stdout",
     "output_type": "stream",
     "text": [
      "NAME\n",
      "  model.pkl:19834dbd1c609a4d4fa188a6cae92944:3\n",
      "metrics:aaae534e-915d-11ec-b106-89841b9859cd:4\n",
      "TYPE\n",
      "  Model\n",
      "Metrics\n",
      "URI\n",
      "    19834dbd1c609a4d4fa188a6cae92944\n",
      "aaae534e-915d-11ec-b106-89841b9859cd\n"
     ]
    }
   ],
   "source": [
    "linked = query.get_all_artifacts_for_execution(4)\n",
    "print(\"NAME\")\n",
    "print(linked[\"name\"].to_string(index=False, header=False))\n",
    "print(\"TYPE\")\n",
    "print(linked[\"type\"].to_string(index=False, header=False))\n",
    "print(\"URI\")\n",
    "print(linked[\"uri\"].to_string(index=False, header=False))"
   ]
  },
  {
   "cell_type": "markdown",
   "id": "ae3109b7",
   "metadata": {},
   "source": [
    "### Change the metrics name in the get_artifact call with the metrics name from output of the previous cell"
   ]
  },
  {
   "cell_type": "code",
   "execution_count": 22,
   "id": "8bf8a41d",
   "metadata": {},
   "outputs": [
    {
     "name": "stdout",
     "output_type": "stream",
     "text": [
      "   id     type                                   uri  \\\n",
      "0   8  Metrics  aaae534e-915d-11ec-b106-89841b9859cd   \n",
      "\n",
      "                                             name  create_time_since_epoch  \\\n",
      "0  metrics:aaae534e-915d-11ec-b106-89841b9859cd:4            1645259202323   \n",
      "\n",
      "   last_update_time_since_epoch  \\\n",
      "0                 1645259202323   \n",
      "\n",
      "                                     metrics_name  avg_prec   roc_auc  \n",
      "0  metrics:aaae534e-915d-11ec-b106-89841b9859cd:4  0.545596  0.958625  \n"
     ]
    }
   ],
   "source": [
    "artifacts = query.get_artifact(\"metrics:aaae534e-915d-11ec-b106-89841b9859cd:4\")\n",
    "print(artifacts)\n"
   ]
  },
  {
   "cell_type": "code",
   "execution_count": 23,
   "id": "ca26387d",
   "metadata": {},
   "outputs": [
    {
     "name": "stdout",
     "output_type": "stream",
     "text": [
      "                                                  hash\n",
      "Path                                                  \n",
      "data/raw_data/1.xml   9f2519f71190d545eb23ba0d054db089\n",
      "data/raw_data/18.xml  f257379463d3165ef51f0c80f50e6a7c\n",
      "data/raw_data/19.xml  f257379463d3165ef51f0c80f50e6a7c\n",
      "data/raw_data/21.xml  f257379463d3165ef51f0c80f50e6a7c\n",
      "data/raw_data/27.xml  f257379463d3165ef51f0c80f50e6a7c\n",
      "data/raw_data/35.xml  f257379463d3165ef51f0c80f50e6a7c\n",
      "data/raw_data/37.xml  f257379463d3165ef51f0c80f50e6a7c\n",
      "data/raw_data/42.xml  f257379463d3165ef51f0c80f50e6a7c\n",
      "data/raw_data/44.xml  f257379463d3165ef51f0c80f50e6a7c\n",
      "data/raw_data/47.xml  f257379463d3165ef51f0c80f50e6a7c\n",
      "data/raw_data/58.xml  f257379463d3165ef51f0c80f50e6a7c\n",
      "data/raw_data/60.xml  f257379463d3165ef51f0c80f50e6a7c\n",
      "data/raw_data/63.xml  f257379463d3165ef51f0c80f50e6a7c\n",
      "data/raw_data/66.xml  f257379463d3165ef51f0c80f50e6a7c\n",
      "data/raw_data/67.xml  f257379463d3165ef51f0c80f50e6a7c\n",
      "data/raw_data/75.xml  f257379463d3165ef51f0c80f50e6a7c\n",
      "data/raw_data/78.xml  f257379463d3165ef51f0c80f50e6a7c\n"
     ]
    }
   ],
   "source": [
    "new_parquet_df = pd.read_parquet(\"/home/royann/example-get-started/slice-a\")\n",
    "print(new_parquet_df)"
   ]
  },
  {
   "cell_type": "code",
   "execution_count": null,
   "id": "eead9074",
   "metadata": {},
   "outputs": [],
   "source": []
  },
  {
   "cell_type": "code",
   "execution_count": null,
   "id": "707b6274",
   "metadata": {},
   "outputs": [],
   "source": []
  }
 ],
 "metadata": {
  "kernelspec": {
   "display_name": "Python 3 (ipykernel)",
   "language": "python",
   "name": "python3"
  },
  "language_info": {
   "codemirror_mode": {
    "name": "ipython",
    "version": 3
   },
   "file_extension": ".py",
   "mimetype": "text/x-python",
   "name": "python",
   "nbconvert_exporter": "python",
   "pygments_lexer": "ipython3",
   "version": "3.8.10"
  }
 },
 "nbformat": 4,
 "nbformat_minor": 5
}
